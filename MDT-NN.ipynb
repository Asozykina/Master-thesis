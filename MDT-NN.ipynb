{
 "cells": [
  {
   "cell_type": "code",
   "execution_count": 1,
   "metadata": {},
   "outputs": [],
   "source": [
    "import os\n",
    "os.environ['CUDA_LAUNCH_BLOCKING']='1'\n",
    "os.environ[\"CUDA_VISIBLE_DEVICES\"]= '5'"
   ]
  },
  {
   "cell_type": "code",
   "execution_count": 2,
   "metadata": {},
   "outputs": [],
   "source": [
    "import numpy as np\n",
    "import pandas as pd\n",
    "import matplotlib.pyplot as plt\n",
    "from scipy import stats\n",
    "import math\n",
    "\n",
    "import torch\n",
    "import torch.nn as nn\n",
    "import torch.nn.functional as F\n",
    "from torch.nn.parameter import Parameter\n",
    "from torch.nn.modules.module import Module\n",
    "\n",
    "import tensorly as tl\n",
    "import tensorly.backend as T\n",
    "from tensorly.decomposition import tucker\n",
    "from tensorly.base import unfold, fold\n",
    "from tensorly.tenalg import multi_mode_dot, mode_dot\n",
    "tl.set_backend('pytorch')\n",
    "\n",
    "import random\n",
    "\n",
    "from tqdm import tqdm\n",
    "import itertools\n",
    "from time import time\n",
    "import logging\n",
    "import warnings\n",
    "\n",
    "import yfinance as yf\n",
    "\n",
    "from sklearn.preprocessing import MinMaxScaler\n",
    "from sklearn.preprocessing import StandardScaler\n",
    "\n",
    "from IPython import display\n",
    "params = {'text.usetex' : False,\n",
    "\n",
    "          'font.size' : 16,\n",
    "          }\n",
    "plt.rcParams.update(params)\n",
    "warnings.filterwarnings('ignore')\n",
    "plt.style.use('fivethirtyeight')\n",
    "\n",
    "device = \"cuda\" if torch.cuda.is_available() else \"cpu\""
   ]
  },
  {
   "cell_type": "code",
   "execution_count": 3,
   "metadata": {},
   "outputs": [],
   "source": [
    "def nrmse(y_pred, y_true):\n",
    "    \"\"\" Normalized RMSE\"\"\"\n",
    "    t1 = np.linalg.norm(y_pred - y_true)**2 / np.size(y_true)\n",
    "    t2 = np.sum(abs(y_true)) / np.size(y_true)\n",
    "    return np.sqrt(t1) / t2"
   ]
  },
  {
   "cell_type": "code",
   "execution_count": 4,
   "metadata": {},
   "outputs": [],
   "source": [
    "def make_deterministic(seed=42):    \n",
    "    torch.manual_seed(seed)\n",
    "    torch.cuda.manual_seed_all(seed)\n",
    "    torch.backends.cudnn.deterministic = True\n",
    "    torch.backends.cudnn.benchmark = False\n",
    "    np.random.seed(seed)\n",
    "    random.seed(seed)\n",
    "    os.environ['PYTHONHASHSEED'] = str(seed)\n",
    "    \n",
    "    \n",
    "make_deterministic()"
   ]
  },
  {
   "cell_type": "code",
   "execution_count": 5,
   "metadata": {
    "id": "qWJ3_xUUTLIF"
   },
   "outputs": [],
   "source": [
    "def nunfold(tensor,n):\n",
    "    \"\"\"\n",
    "    Unfolding function.\n",
    "    \"\"\"\n",
    "    size = np.array(tensor.shape)\n",
    "    N = size.shape[0]\n",
    "    I = int(size[n])\n",
    "    J = int(int(np.prod(size)) / int(I))\n",
    "    pmt=list(range(n,n+1))\n",
    "    pmt=pmt + list(range(0,n))\n",
    "    pmt=pmt + list(range(n+1,N))\n",
    "    return torch.reshape(torch.permute(torch.tensor(tensor), pmt),[I, J])\n",
    "\n",
    "def nfold(matrix,n,size_t_ori):\n",
    "    \"\"\"\n",
    "    Folding function.\n",
    "    \"\"\"\n",
    "    N = np.array(size_t_ori).shape[0]\n",
    "    size_t_pmt = np.concatenate([size_t_ori[n:(n+1)],size_t_ori[0:n],size_t_ori[(n+1):N]], axis=0)\n",
    "    size_t_pmt = size_t_pmt.tolist()\n",
    "    pmt = list(range(1,n+1))\n",
    "    pmt = pmt +list(range(0,1))\n",
    "    pmt = pmt + list(range(n+1,N))\n",
    "    return torch.permute(torch.reshape(matrix,size_t_pmt),pmt)\n",
    "\n",
    "def hankel_torch(c, r):\n",
    "    vals = torch.cat((c, r[1:]))\n",
    "    shape = len(c), len(r)\n",
    "    n = vals.stride()[0]\n",
    "    return torch.as_strided(vals, size=shape, stride=(n, n))\n",
    "\n",
    "def make_duplication_matrix_torch(T,tau):\n",
    "    tau_vec=torch.arange(tau,dtype=torch.float, requires_grad=True)\n",
    "    T_vec=torch.arange(tau-1,T,dtype=torch.float, requires_grad=True)\n",
    "    H = hankel_torch(tau_vec,T_vec)\n",
    "    T2= len(T_vec)*len(tau_vec)\n",
    "    h = torch.reshape(H,[1,T2])\n",
    "    h2= torch.arange(T2).unsqueeze(0)\n",
    "    index = torch.cat([h,h2],axis=0)\n",
    "    #S2 = torch.zeros([T,T2])\n",
    "    #with torch.no_grad():\n",
    "    #    S2[tuple(index.long())] = 1\n",
    "    S = torch.zeros([T,T2])\n",
    "    #S = T_vec.outer(tau_vec).repeat(len(T_vec)*len(T_vec),1,1).reshape(-1,len(T_vec)*len(tau_vec))\n",
    "    #print(S.requires_grad)\n",
    "    #S = S*S0\n",
    "    S = torch.scatter(S.flatten(),-1,(index[1] * S.T.shape[1] + index[0]).flatten().long(),1).reshape([T2,T])\n",
    "    S = S.T\n",
    "    #S.retain_grad()\n",
    "    return S\n",
    "\n",
    "def tmult(tensor,matrix,n):\n",
    "    size = np.array(tensor.shape)\n",
    "    size[n] = matrix.shape[0]\n",
    "    dot = matrix.to(device) @ nunfold(tensor,n).to(device)\n",
    "    return nfold(dot,n,size)\n",
    "\n",
    "def hankel_tensor_torch(x,TAU):\n",
    "    N = len(TAU)\n",
    "    N2= N*2\n",
    "    T2  = torch.zeros([N,2],dtype=torch.int64)\n",
    "    #print(T2)\n",
    "    S = list()\n",
    "    Hx = x\n",
    "    for n in range(N):\n",
    "        tau   = TAU[n]\n",
    "        T     = x.shape[n]\n",
    "        T2[n,:] = torch.Tensor([tau,T-tau+1])\n",
    "        S.append(make_duplication_matrix_torch(x.shape[n],TAU[n]).T)\n",
    "        Hx = tmult(Hx,S[n],n)\n",
    "    size_h_tensor = torch.reshape(T2,[N2,])\n",
    "    #print(Hx.shape, size_h_tensor)\n",
    "    Hx = torch.reshape(Hx, size_h_tensor.tolist())\n",
    "    return Hx, S\n",
    "\n",
    "def hankel_tensor_adjoint(Hx,S):\n",
    "    N = len(S)\n",
    "    size_h_tensor = torch.zeros([N,], dtype=torch.int64)\n",
    "    for n in range(N):\n",
    "        size_h_tensor[n] = S[n].shape[0]\n",
    "    \n",
    "    Hx = torch.reshape(Hx,size_h_tensor.tolist())\n",
    "    for n in range(N):\n",
    "        Hx = tmult(Hx,S[n].T,n)\n",
    "    return Hx\n",
    "\n",
    "def mode_product(a: torch.tensor, b: torch.tensor, axis: int):\n",
    "    tmp = b.transpose(0,1)\n",
    "    return mode_dot(a, tmp, axis)"
   ]
  },
  {
   "cell_type": "markdown",
   "metadata": {},
   "source": [
    "# Loading and preprocessing data"
   ]
  },
  {
   "cell_type": "code",
   "execution_count": 6,
   "metadata": {},
   "outputs": [],
   "source": [
    "class TimeseriesDataset(torch.utils.data.Dataset):   \n",
    "    def __init__(self, X, y, seq_len=1):\n",
    "        self.X = X\n",
    "        self.y = y\n",
    "        self.seq_len = seq_len\n",
    "\n",
    "    def __len__(self):\n",
    "        return self.X.__len__() - (self.seq_len)\n",
    "\n",
    "    def __getitem__(self, index):\n",
    "        return (torch.FloatTensor(self.X[index:index+self.seq_len]), torch.FloatTensor(self.y[index+self.seq_len]))"
   ]
  },
  {
   "cell_type": "code",
   "execution_count": 7,
   "metadata": {},
   "outputs": [],
   "source": [
    "def indices(n_timesteps, train_ratio):\n",
    "  \n",
    "    n_train = int(n_timesteps * train_ratio)\n",
    "    index = np.arange(n_timesteps)\n",
    "    indices_train = index[:n_train]\n",
    "    indices_val = index[n_train:]\n",
    "\n",
    "    return indices_train, indices_val\n"
   ]
  },
  {
   "cell_type": "code",
   "execution_count": 8,
   "metadata": {},
   "outputs": [
    {
     "name": "stdout",
     "output_type": "stream",
     "text": [
      "[*********************100%***********************]  21 of 21 completed\n"
     ]
    }
   ],
   "source": [
    "nasdaq = ['AAPL', 'ADBE', 'ADI', 'AMZN', 'ASML', 'AVGO','CMCSA', \n",
    "          'CSCO', 'FB', 'GOOG', 'GOOGL', 'IDXX', 'INTC', 'MCHP', \n",
    "          'MSFT', 'NFLX', 'NTES', 'NVDA', 'PEP', 'PYPL', 'TSLA']\n",
    "\n",
    "hist = yf.Tickers(nasdaq).history(period=\"max\")\n",
    "hist = hist.Close\n",
    "hist = hist.dropna()"
   ]
  },
  {
   "cell_type": "code",
   "execution_count": 9,
   "metadata": {
    "id": "CGPmG4ImJSed"
   },
   "outputs": [],
   "source": [
    "data = hist.values"
   ]
  },
  {
   "cell_type": "code",
   "execution_count": 10,
   "metadata": {},
   "outputs": [],
   "source": [
    "window = 20\n",
    "n_timesteps, n_assets  = data.shape\n",
    "indices_train, indices_val  = indices(n_timesteps, 0.9)"
   ]
  },
  {
   "cell_type": "code",
   "execution_count": 11,
   "metadata": {
    "id": "asv32f5KKKI6"
   },
   "outputs": [],
   "source": [
    "scaler_y = StandardScaler()\n",
    "y = data[1:-1].T\n",
    "scaler_y.fit(y[indices_train[0]:indices_train[-1]])\n",
    "y = scaler_y.transform(y)\n",
    "y = y.T\n",
    "\n",
    "\n",
    "scaler_X = StandardScaler()\n",
    "X = data[0:-2].T\n",
    "scaler_X.fit(X[indices_train[1]:indices_train[-2]])\n",
    "X = scaler_X.transform(X)\n",
    "X = X.T"
   ]
  },
  {
   "cell_type": "markdown",
   "metadata": {},
   "source": [
    "# Model"
   ]
  },
  {
   "cell_type": "code",
   "execution_count": 12,
   "metadata": {},
   "outputs": [],
   "source": [
    "class MDTWrapper(object):\n",
    "    \n",
    "    def __init__(self,data,tau=None):\n",
    "        self._data = torch.tensor(data,dtype=torch.float)\n",
    "        self._ori_data = torch.tensor(data,dtype=torch.float)\n",
    "        self.set_tau(tau)\n",
    "        is_transformed = False\n",
    "        self._ori_shape = data.shape\n",
    "        pass\n",
    "    \n",
    "    def set_tau(self, tau):\n",
    "        if isinstance(tau, np.ndarray):\n",
    "            self._tau = tau\n",
    "          \n",
    "        elif isinstance(tau, list):\n",
    "            self._tau = np.array(tau)\n",
    "        else:\n",
    "            raise TypeError(\" 'tau' need to be a list or numpy.ndarray\")      \n",
    "  \n",
    "    def get_tau(self):\n",
    "        return self._tau\n",
    "    \n",
    "    def shape(self):\n",
    "        return self._data.shape\n",
    "    \n",
    "    def get_data(self):\n",
    "        return self._data\n",
    "    \n",
    "    def get_ori_data(self):\n",
    "        return self._ori_data\n",
    "  \n",
    "    def transform(self, tau=None):       \n",
    "        _tau = tau if tau is not None else self._tau\n",
    "        result, S = hankel_tensor_torch(self._data, _tau)\n",
    "        self.is_transformed = True\n",
    "        axis_dim = tuple(i for i, dim in enumerate(result.shape) if dim==1 and i!=0)\n",
    "        result = torch.squeeze(result)\n",
    "        self._data = result\n",
    "        return result\n",
    "    \n",
    "    def inverse(self, data=None, tau=None, ori_shape=None):\n",
    "        _tau = tau if tau is not None else self._tau\n",
    "        _ori_shape = ori_shape if ori_shape is not None else self._ori_shape\n",
    "        _data = data if data is not None else self._data\n",
    "        O = np.ones(_ori_shape, dtype='uint8')\n",
    "        Ho, S = hankel_tensor_torch(O.astype(np.float32), _tau)\n",
    "        D = hankel_tensor_adjoint(Ho, S)\n",
    "        \n",
    "        result = (hankel_tensor_adjoint(_data, S)/D)\n",
    "        self.is_transformed = False\n",
    "        self._data = result\n",
    "        result = torch.tensor(result, requires_grad=True)\n",
    "        return result"
   ]
  },
  {
   "cell_type": "code",
   "execution_count": 13,
   "metadata": {},
   "outputs": [],
   "source": [
    "def _forward_MDT(data, taus):\n",
    "    mdt = MDTWrapper(data,taus)\n",
    "    trans_data = mdt.transform()\n",
    "    return trans_data"
   ]
  },
  {
   "cell_type": "code",
   "execution_count": 14,
   "metadata": {},
   "outputs": [],
   "source": [
    "\"\"\"\n",
    "@article{jing2021network,\n",
    "  title={Network of Tensor Time Series},\n",
    "  author={Jing, Baoyu and Tong, Hanghang and Zhu, Yada},\n",
    "  journal={arXiv preprint arXiv:2102.07736},\n",
    "  year={2021}\n",
    "}\n",
    "https://github.com/baoyujing/NET3\n",
    "\"\"\"\n",
    "\n",
    "class TuckerLayer(nn.Module):\n",
    "    def __init__(self, in_modes_dict, out_modes_dicts):\n",
    "        super().__init__()\n",
    "\n",
    "        self.u_dict = nn.ParameterDict(\n",
    "            {str(k): nn.Parameter(torch.FloatTensor(in_modes_dict[k], out_modes_dicts[k])) for k in in_modes_dict})\n",
    "\n",
    "        self._reset_parameters()\n",
    "\n",
    "    def forward(self, x, back=False):\n",
    "        if back:\n",
    "            return self._backward(x)\n",
    "        return self._forward(x)\n",
    "\n",
    "    def _forward(self, x):\n",
    "        for k in self.u_dict:\n",
    "            #print('tucker forward', x.shape, self.u_dict[k].shape)\n",
    "            x = mode_product(x, self.u_dict[k], axis=int(k)+1)\n",
    "            #print(x.shape)\n",
    "        return x\n",
    "\n",
    "    def _backward(self, x):\n",
    "        for k in self.u_dict:\n",
    "            x = mode_product(x, self.u_dict[k].permute([1, 0]), axis=int(k)+1)\n",
    "        return x\n",
    "\n",
    "    def _reset_parameters(self):\n",
    "        for k, w in self.u_dict.items():\n",
    "            stdv = 1. / math.sqrt(w.size(1))\n",
    "            w.data.uniform_(-stdv, stdv)\n",
    "\n",
    "    def get_orthogonal_loss(self):\n",
    "        loss = 0.0\n",
    "        for k, w in self.u_dict.items():\n",
    "            loss += orthogonal_loss(w)\n",
    "        return loss"
   ]
  },
  {
   "cell_type": "code",
   "execution_count": 15,
   "metadata": {},
   "outputs": [],
   "source": [
    "class RMSELoss(torch.nn.Module):\n",
    "    def __init__(self):\n",
    "        super(RMSELoss,self).__init__()\n",
    "\n",
    "    def forward(self,x,y):\n",
    "        eps = 1e-6\n",
    "        criterion = nn.MSELoss()\n",
    "        loss = torch.sqrt(criterion(x, y) + eps)\n",
    "        return loss"
   ]
  },
  {
   "cell_type": "code",
   "execution_count": 16,
   "metadata": {
    "id": "7q99ZX0ZINFD"
   },
   "outputs": [],
   "source": [
    "def adjust_learning_rate(optimizer, learning_rate, epoch, lradj='type1',ratio=0.95):\n",
    "    if lradj=='type1':\n",
    "        lr_adjust = {epoch: learning_rate * (ratio ** ((epoch-1) // 1))}\n",
    "    elif lradj=='type2':\n",
    "        lr_adjust = {\n",
    "            2: 5e-5, 4: 1e-5, 6: 5e-6, 8: 1e-6, \n",
    "            10: 5e-7, 15: 1e-7, 20: 5e-8\n",
    "        }\n",
    "    if epoch in lr_adjust.keys():\n",
    "        lr = lr_adjust[epoch]\n",
    "        for param_group in optimizer.param_groups:\n",
    "            param_group['lr'] = lr\n",
    "        print('Updating learning rate to {}'.format(lr))"
   ]
  },
  {
   "cell_type": "code",
   "execution_count": 17,
   "metadata": {
    "id": "TdL5cuiLIM5i"
   },
   "outputs": [],
   "source": [
    "def loader(X, y, indices, window, batch_size = 1, shuffle = False):\n",
    "  \n",
    "    X = X[indices[0]:indices[-1]+1]\n",
    "    y = y[indices[0]:indices[-1]+1]\n",
    "    dataset = TimeseriesDataset(X, y, window)\n",
    "    loader = torch.utils.data.DataLoader(dataset, batch_size, shuffle, num_workers = 0)\n",
    "    \n",
    "    return loader"
   ]
  },
  {
   "cell_type": "markdown",
   "metadata": {},
   "source": [
    "# Model training"
   ]
  },
  {
   "cell_type": "code",
   "execution_count": 18,
   "metadata": {
    "id": "3QwCJHXSIM8B"
   },
   "outputs": [],
   "source": [
    "tau = 21\n",
    "\n",
    "batch_size_train = 100\n",
    "batch_size_val = 1\n",
    "\n",
    "train_loader = loader(X, y, indices_train, window, batch_size_train, shuffle = False)\n",
    "val_loader = loader(X, y, indices_val, window, batch_size_val, shuffle = False)\n"
   ]
  },
  {
   "cell_type": "code",
   "execution_count": 19,
   "metadata": {},
   "outputs": [
    {
     "name": "stderr",
     "output_type": "stream",
     "text": [
      "  0%|                                                                                           | 0/16 [00:00<?, ?it/s]\n"
     ]
    }
   ],
   "source": [
    "for batch_no, (X_batch, y_batch) in tqdm(enumerate(train_loader), \n",
    "                                                     total=len(train_loader)):\n",
    "    mdt=[_forward_MDT(x.T,[tau, window,]) for x in X_batch]\n",
    "    mdt = torch.stack(mdt,0).flatten(1)\n",
    "    break"
   ]
  },
  {
   "cell_type": "code",
   "execution_count": 20,
   "metadata": {},
   "outputs": [],
   "source": [
    "seq = [TuckerLayer(in_modes_dict={0:mdt.shape[1]}, out_modes_dicts={0: 256}),\n",
    "       torch.nn.Linear(256,256),\n",
    "       nn.ReLU(inplace=True),\n",
    "       torch.nn.Linear(256,256),\n",
    "       nn.ReLU(inplace=True),\n",
    "       torch.nn.Linear(256,n_assets),\n",
    "      ]"
   ]
  },
  {
   "cell_type": "code",
   "execution_count": 21,
   "metadata": {},
   "outputs": [],
   "source": [
    "mlp = torch.nn.Sequential(*seq).to(device)"
   ]
  },
  {
   "cell_type": "code",
   "execution_count": 22,
   "metadata": {},
   "outputs": [],
   "source": [
    "lr = 1e-4\n",
    "criterion =  RMSELoss()\n",
    "opt = torch.optim.Adam(mlp.parameters(), lr=lr,weight_decay=1e-5)\n",
    "#opt = torch.optim.SGD(mlp.parameters(), lr=lr, momentum=0.9)\n",
    "num_epochs = 50"
   ]
  },
  {
   "cell_type": "code",
   "execution_count": 23,
   "metadata": {},
   "outputs": [
    {
     "name": "stderr",
     "output_type": "stream",
     "text": [
      "trainloss  0.7814: 100%|███████████████████████████████████████████████████████████████| 16/16 [00:01<00:00,  9.98it/s]\n",
      "valloss 0.7768: 100%|███████████████████████████████████████████████████████████████| 152/152 [00:00<00:00, 208.78it/s]\n",
      "trainloss  0.3625: 100%|███████████████████████████████████████████████████████████████| 16/16 [00:01<00:00, 10.10it/s]\n",
      "valloss 0.4017: 100%|███████████████████████████████████████████████████████████████| 152/152 [00:00<00:00, 219.29it/s]\n",
      "trainloss  0.1452: 100%|███████████████████████████████████████████████████████████████| 16/16 [00:01<00:00, 10.07it/s]\n",
      "valloss 0.2553: 100%|███████████████████████████████████████████████████████████████| 152/152 [00:00<00:00, 218.17it/s]\n",
      "trainloss  0.1595: 100%|███████████████████████████████████████████████████████████████| 16/16 [00:01<00:00, 10.24it/s]\n",
      "valloss 0.2675: 100%|███████████████████████████████████████████████████████████████| 152/152 [00:00<00:00, 215.57it/s]\n",
      "trainloss  0.1539: 100%|███████████████████████████████████████████████████████████████| 16/16 [00:01<00:00,  9.82it/s]\n",
      "valloss 0.2703: 100%|███████████████████████████████████████████████████████████████| 152/152 [00:00<00:00, 224.46it/s]\n",
      "trainloss  0.1534: 100%|███████████████████████████████████████████████████████████████| 16/16 [00:01<00:00,  9.92it/s]\n",
      "valloss 0.2630: 100%|███████████████████████████████████████████████████████████████| 152/152 [00:00<00:00, 222.17it/s]\n",
      "trainloss  0.1489: 100%|███████████████████████████████████████████████████████████████| 16/16 [00:01<00:00,  9.85it/s]\n",
      "valloss 0.2615: 100%|███████████████████████████████████████████████████████████████| 152/152 [00:00<00:00, 221.84it/s]\n",
      "trainloss  0.1504: 100%|███████████████████████████████████████████████████████████████| 16/16 [00:01<00:00,  9.74it/s]\n",
      "valloss 0.2606: 100%|███████████████████████████████████████████████████████████████| 152/152 [00:00<00:00, 221.20it/s]\n",
      "trainloss  0.1478: 100%|███████████████████████████████████████████████████████████████| 16/16 [00:01<00:00, 10.01it/s]\n",
      "valloss 0.2579: 100%|███████████████████████████████████████████████████████████████| 152/152 [00:00<00:00, 222.17it/s]\n",
      "trainloss  0.1455: 100%|███████████████████████████████████████████████████████████████| 16/16 [00:01<00:00,  9.82it/s]\n",
      "valloss 0.2528: 100%|███████████████████████████████████████████████████████████████| 152/152 [00:00<00:00, 222.82it/s]\n",
      "trainloss  0.1455: 100%|███████████████████████████████████████████████████████████████| 16/16 [00:01<00:00,  9.64it/s]\n",
      "valloss 0.2511: 100%|███████████████████████████████████████████████████████████████| 152/152 [00:00<00:00, 218.66it/s]\n",
      "trainloss  0.1439: 100%|███████████████████████████████████████████████████████████████| 16/16 [00:01<00:00,  9.33it/s]\n",
      "valloss 0.2467: 100%|███████████████████████████████████████████████████████████████| 152/152 [00:00<00:00, 218.35it/s]\n",
      "trainloss  0.1424: 100%|███████████████████████████████████████████████████████████████| 16/16 [00:01<00:00,  9.83it/s]\n",
      "valloss 0.2417: 100%|███████████████████████████████████████████████████████████████| 152/152 [00:00<00:00, 209.06it/s]\n",
      "trainloss  0.1403: 100%|███████████████████████████████████████████████████████████████| 16/16 [00:01<00:00, 10.01it/s]\n",
      "valloss 0.2351: 100%|███████████████████████████████████████████████████████████████| 152/152 [00:00<00:00, 216.79it/s]\n",
      "trainloss  0.1397: 100%|███████████████████████████████████████████████████████████████| 16/16 [00:01<00:00,  9.62it/s]\n",
      "valloss 0.2286: 100%|███████████████████████████████████████████████████████████████| 152/152 [00:00<00:00, 218.97it/s]\n",
      "trainloss  0.1395: 100%|███████████████████████████████████████████████████████████████| 16/16 [00:01<00:00,  9.95it/s]\n",
      "valloss 0.2218: 100%|███████████████████████████████████████████████████████████████| 152/152 [00:00<00:00, 205.40it/s]\n",
      "trainloss  0.1412: 100%|███████████████████████████████████████████████████████████████| 16/16 [00:01<00:00,  9.99it/s]\n",
      "valloss 0.2145: 100%|███████████████████████████████████████████████████████████████| 152/152 [00:00<00:00, 215.38it/s]\n",
      "trainloss  0.1448: 100%|███████████████████████████████████████████████████████████████| 16/16 [00:01<00:00,  9.25it/s]\n",
      "valloss 0.2082: 100%|███████████████████████████████████████████████████████████████| 152/152 [00:00<00:00, 230.22it/s]\n",
      "trainloss  0.1424: 100%|███████████████████████████████████████████████████████████████| 16/16 [00:01<00:00, 10.27it/s]\n",
      "valloss 0.1930: 100%|███████████████████████████████████████████████████████████████| 152/152 [00:00<00:00, 203.48it/s]\n",
      "trainloss  0.1460: 100%|███████████████████████████████████████████████████████████████| 16/16 [00:01<00:00,  9.57it/s]\n",
      "valloss 0.1879: 100%|███████████████████████████████████████████████████████████████| 152/152 [00:00<00:00, 209.93it/s]\n",
      "trainloss  0.1542: 100%|███████████████████████████████████████████████████████████████| 16/16 [00:01<00:00,  9.74it/s]\n",
      "valloss 0.1912: 100%|███████████████████████████████████████████████████████████████| 152/152 [00:00<00:00, 220.24it/s]\n",
      "trainloss  0.1627: 100%|███████████████████████████████████████████████████████████████| 16/16 [00:01<00:00,  9.74it/s]\n",
      "valloss 0.1959: 100%|███████████████████████████████████████████████████████████████| 152/152 [00:00<00:00, 207.36it/s]\n",
      "trainloss  0.1500: 100%|███████████████████████████████████████████████████████████████| 16/16 [00:01<00:00, 10.11it/s]\n",
      "valloss 0.1786: 100%|███████████████████████████████████████████████████████████████| 152/152 [00:00<00:00, 215.57it/s]\n",
      "trainloss  0.1380: 100%|███████████████████████████████████████████████████████████████| 16/16 [00:01<00:00, 10.07it/s]\n",
      "valloss 0.1751: 100%|███████████████████████████████████████████████████████████████| 152/152 [00:00<00:00, 220.56it/s]\n",
      "trainloss  0.1278: 100%|███████████████████████████████████████████████████████████████| 16/16 [00:01<00:00,  9.98it/s]\n",
      "valloss 0.1666: 100%|███████████████████████████████████████████████████████████████| 152/152 [00:00<00:00, 208.21it/s]\n",
      "trainloss  0.1373: 100%|███████████████████████████████████████████████████████████████| 16/16 [00:01<00:00,  9.88it/s]\n",
      "valloss 0.1712: 100%|███████████████████████████████████████████████████████████████| 152/152 [00:00<00:00, 210.22it/s]\n",
      "trainloss  0.1383: 100%|███████████████████████████████████████████████████████████████| 16/16 [00:01<00:00,  9.47it/s]\n",
      "valloss 0.1714: 100%|███████████████████████████████████████████████████████████████| 152/152 [00:00<00:00, 210.69it/s]\n",
      "trainloss  0.1286: 100%|███████████████████████████████████████████████████████████████| 16/16 [00:01<00:00,  9.92it/s]\n",
      "valloss 0.1656: 100%|███████████████████████████████████████████████████████████████| 152/152 [00:00<00:00, 215.26it/s]\n",
      "trainloss  0.1249: 100%|███████████████████████████████████████████████████████████████| 16/16 [00:01<00:00,  9.76it/s]\n",
      "valloss 0.1654: 100%|███████████████████████████████████████████████████████████████| 152/152 [00:00<00:00, 206.23it/s]\n",
      "trainloss  0.1238: 100%|███████████████████████████████████████████████████████████████| 16/16 [00:01<00:00,  9.84it/s]\n",
      "valloss 0.1594: 100%|███████████████████████████████████████████████████████████████| 152/152 [00:00<00:00, 212.78it/s]\n",
      "trainloss  0.1176: 100%|███████████████████████████████████████████████████████████████| 16/16 [00:01<00:00,  9.05it/s]\n",
      "valloss 0.1480: 100%|███████████████████████████████████████████████████████████████| 152/152 [00:00<00:00, 204.85it/s]\n",
      "trainloss  0.1389: 100%|███████████████████████████████████████████████████████████████| 16/16 [00:01<00:00,  9.66it/s]\n",
      "valloss 0.1784: 100%|███████████████████████████████████████████████████████████████| 152/152 [00:00<00:00, 204.85it/s]\n",
      "trainloss  0.1553: 100%|███████████████████████████████████████████████████████████████| 16/16 [00:01<00:00, 10.11it/s]\n",
      "valloss 0.2096: 100%|███████████████████████████████████████████████████████████████| 152/152 [00:00<00:00, 213.75it/s]\n",
      "trainloss  0.1143: 100%|███████████████████████████████████████████████████████████████| 16/16 [00:01<00:00,  9.56it/s]\n",
      "valloss 0.1644: 100%|███████████████████████████████████████████████████████████████| 152/152 [00:00<00:00, 212.17it/s]\n",
      "trainloss  0.1078: 100%|███████████████████████████████████████████████████████████████| 16/16 [00:01<00:00,  9.72it/s]\n",
      "valloss 0.1335: 100%|███████████████████████████████████████████████████████████████| 152/152 [00:00<00:00, 231.27it/s]\n",
      "trainloss  0.1224: 100%|███████████████████████████████████████████████████████████████| 16/16 [00:01<00:00,  9.68it/s]\n",
      "valloss 0.1658: 100%|███████████████████████████████████████████████████████████████| 152/152 [00:00<00:00, 221.52it/s]\n",
      "trainloss  0.0986: 100%|███████████████████████████████████████████████████████████████| 16/16 [00:01<00:00,  9.60it/s]\n",
      "valloss 0.1379: 100%|███████████████████████████████████████████████████████████████| 152/152 [00:00<00:00, 211.38it/s]\n",
      "trainloss  0.0913: 100%|███████████████████████████████████████████████████████████████| 16/16 [00:01<00:00,  9.85it/s]\n",
      "valloss 0.1225: 100%|███████████████████████████████████████████████████████████████| 152/152 [00:00<00:00, 226.46it/s]\n",
      "trainloss  0.1196: 100%|███████████████████████████████████████████████████████████████| 16/16 [00:01<00:00,  9.70it/s]\n",
      "valloss 0.1588: 100%|███████████████████████████████████████████████████████████████| 152/152 [00:00<00:00, 217.10it/s]\n",
      "trainloss  0.1106: 100%|███████████████████████████████████████████████████████████████| 16/16 [00:01<00:00,  8.18it/s]\n",
      "valloss 0.1621: 100%|███████████████████████████████████████████████████████████████| 152/152 [00:00<00:00, 153.64it/s]\n",
      "trainloss  0.0893: 100%|███████████████████████████████████████████████████████████████| 16/16 [00:01<00:00,  8.67it/s]\n",
      "valloss 0.1132: 100%|███████████████████████████████████████████████████████████████| 152/152 [00:00<00:00, 201.83it/s]\n",
      "trainloss  0.0933: 100%|███████████████████████████████████████████████████████████████| 16/16 [00:01<00:00,  9.01it/s]\n",
      "valloss 0.1298: 100%|███████████████████████████████████████████████████████████████| 152/152 [00:00<00:00, 187.00it/s]\n",
      "trainloss  0.0958: 100%|███████████████████████████████████████████████████████████████| 16/16 [00:01<00:00,  8.90it/s]\n",
      "valloss 0.1355: 100%|███████████████████████████████████████████████████████████████| 152/152 [00:00<00:00, 202.67it/s]\n",
      "trainloss  0.0660: 100%|███████████████████████████████████████████████████████████████| 16/16 [00:01<00:00,  8.74it/s]\n",
      "valloss 0.0946: 100%|███████████████████████████████████████████████████████████████| 152/152 [00:00<00:00, 202.67it/s]\n",
      "trainloss  0.0768: 100%|███████████████████████████████████████████████████████████████| 16/16 [00:01<00:00,  9.27it/s]\n",
      "valloss 0.1154: 100%|███████████████████████████████████████████████████████████████| 152/152 [00:00<00:00, 194.15it/s]\n",
      "trainloss  0.1253: 100%|███████████████████████████████████████████████████████████████| 16/16 [00:01<00:00,  9.47it/s]\n",
      "valloss 0.1780: 100%|███████████████████████████████████████████████████████████████| 152/152 [00:00<00:00, 212.28it/s]\n",
      "trainloss  0.0782: 100%|███████████████████████████████████████████████████████████████| 16/16 [00:01<00:00,  9.09it/s]\n",
      "valloss 0.1117: 100%|███████████████████████████████████████████████████████████████| 152/152 [00:00<00:00, 205.95it/s]\n",
      "trainloss  0.0860: 100%|███████████████████████████████████████████████████████████████| 16/16 [00:01<00:00,  8.77it/s]\n",
      "valloss 0.1111: 100%|███████████████████████████████████████████████████████████████| 152/152 [00:00<00:00, 193.17it/s]\n",
      "trainloss  0.0843: 100%|███████████████████████████████████████████████████████████████| 16/16 [00:01<00:00,  9.39it/s]\n",
      "valloss 0.1254: 100%|███████████████████████████████████████████████████████████████| 152/152 [00:00<00:00, 199.41it/s]\n",
      "trainloss  0.0647: 100%|███████████████████████████████████████████████████████████████| 16/16 [00:01<00:00,  9.12it/s]\n",
      "valloss 0.0969: 100%|███████████████████████████████████████████████████████████████| 152/152 [00:00<00:00, 203.21it/s]\n"
     ]
    }
   ],
   "source": [
    "train_loss=[]\n",
    "val_loss=[]\n",
    "\n",
    "st = time()\n",
    "for e in range(num_epochs):\n",
    "    mlp.train()\n",
    "    train_loss_per_epoch = []\n",
    "    train = tqdm(enumerate(train_loader),total=len(train_loader))\n",
    "    for batch_no, (X_batch, y_batch) in train:\n",
    "        mdt=[_forward_MDT(x.T,[tau, window]) for x in X_batch]\n",
    "        mdt = torch.stack(mdt,0).flatten(1) \n",
    "        y_pred = mlp(mdt)\n",
    "        loss = criterion(y_pred.cpu(),y_batch)\n",
    "        opt.zero_grad()\n",
    "        loss.backward()\n",
    "        opt.step()\n",
    "        train_loss_per_epoch.append(loss.item())\n",
    "        train.set_description(f'trainloss  {loss.item():.4f}')\n",
    "    val = tqdm(enumerate(val_loader),total=len(val_loader))\n",
    "    val_loss_per_epoch = []\n",
    "    mlp.eval()\n",
    "    y_all_val = []\n",
    "    y_all_pred = []\n",
    "    \n",
    "    for batch_no, (X_val, y_val) in val:\n",
    "        mdt=[_forward_MDT(x.T,[tau, window]) for x in X_val]\n",
    "        mdt = torch.stack(mdt,0).flatten(1)\n",
    "        y_pred_val = mlp(mdt)\n",
    "        loss = criterion(y_pred_val.cpu(),y_val)\n",
    "        with torch.no_grad():\n",
    "            y_all_val.append(y_val.cpu().numpy())\n",
    "            y_all_pred.append(y_pred_val.cpu().numpy())\n",
    "        #for i in range(len(train_loader)):\n",
    "        val_loss_per_epoch.append(loss.item())\n",
    "        val.set_description(f'valloss {loss.item():.4f}')\n",
    "    train_loss.append(train_loss_per_epoch)\n",
    "    val_loss.append(val_loss_per_epoch)\n",
    "y_all_pred = np.stack(y_all_pred).squeeze(1)\n",
    "y_all_val = np.stack(y_all_val).squeeze(1)\n",
    "\n",
    "et = time() - st"
   ]
  },
  {
   "cell_type": "code",
   "execution_count": 24,
   "metadata": {},
   "outputs": [
    {
     "name": "stdout",
     "output_type": "stream",
     "text": [
      "NRMSE 0.1440958242080864, Time 119.74562788009644\n"
     ]
    }
   ],
   "source": [
    "print(f'NRMSE {nrmse(y_all_val, y_all_pred)}, Time {et}')"
   ]
  },
  {
   "cell_type": "code",
   "execution_count": 25,
   "metadata": {},
   "outputs": [
    {
     "data": {
      "text/plain": [
       "<matplotlib.legend.Legend at 0x14463b272e0>"
      ]
     },
     "execution_count": 25,
     "metadata": {},
     "output_type": "execute_result"
    },
    {
     "data": {
      "image/png": "[encoded data removed]",
      "text/plain": [
       "<Figure size 432x288 with 1 Axes>"
      ]
     },
     "metadata": {},
     "output_type": "display_data"
    }
   ],
   "source": [
    "val_loss_ = np.array(val_loss).mean(-1)\n",
    "train_loss_ = np.array(train_loss).mean(-1)\n",
    "plt.plot(train_loss_, label='train_loss',c='b')\n",
    "plt.plot(val_loss_, label='val_loss',c='r')\n",
    "plt.xlabel(f'{criterion.__class__.__name__}')\n",
    "plt.ylabel(\"number of epoch\")\n",
    "plt.legend()"
   ]
  }
 ],
 "metadata": {
  "accelerator": "GPU",
  "colab": {
   "collapsed_sections": [],
   "name": "Копия блокнота \"Research \"NN_TS.ipynb\"\"\"\"",
   "provenance": []
  },
  "kernelspec": {
   "display_name": "Python 3",
   "language": "python",
   "name": "python3"
  },
  "language_info": {
   "codemirror_mode": {
    "name": "ipython",
    "version": 3
   },
   "file_extension": ".py",
   "mimetype": "text/x-python",
   "name": "python",
   "nbconvert_exporter": "python",
   "pygments_lexer": "ipython3",
   "version": "3.8.8"
  }
 },
 "nbformat": 4,
 "nbformat_minor": 1
}
